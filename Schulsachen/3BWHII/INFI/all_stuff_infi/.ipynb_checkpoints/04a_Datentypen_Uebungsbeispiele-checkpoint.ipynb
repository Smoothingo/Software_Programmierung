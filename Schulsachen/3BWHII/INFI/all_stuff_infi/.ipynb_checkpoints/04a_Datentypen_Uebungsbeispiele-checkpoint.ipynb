{
 "cells": [
  {
   "attachments": {
    "image.png": {
     "image/png": "[encoded data removed]"
    }
   },
   "cell_type": "markdown",
   "metadata": {},
   "source": [
    "## Intro - Assignment\n",
    "1. Führe das Notebook mit individuellen/ veränderten Variablenwerten aus. \n",
    "2. Erzeuge im Bereich \"Datentypen - Umwandlung\" einen String mittels Operator Overloading und schreibe diesen in ein File, sodass die Größe des Files mindestens 25 KB beträgt.\n",
    "![image.png](attachment:image.png)"
   ]
  },
  {
   "cell_type": "code",
   "execution_count": null,
   "metadata": {},
   "outputs": [],
   "source": []
  },
  {
   "cell_type": "code",
   "execution_count": 5,
   "metadata": {},
   "outputs": [
    {
     "name": "stdout",
     "output_type": "stream",
     "text": [
      "11\n",
      "<class 'int'>\n",
      "Der Datentyp von 11 ist: <class 'int'>\n",
      "Der Datentyp von 11.5 ist: <class 'float'>\n",
      "Der Datentyp von Fünfundfünfzig komma Fünf ist: <class 'str'>\n",
      "Der Datentyp von 11.5 ist: <class 'str'>\n"
     ]
    }
   ],
   "source": [
    "# 1. Verwendung einer Variable als Integer\n",
    "markus_number=11\n",
    "print(markus_number)\n",
    "print(type(markus_number))\n",
    "\n",
    "#Die elementaren Datentypen werden von Python implizit festgestellt und verwendet. \n",
    "print(f\"Der Datentyp von {markus_number} ist: {type(markus_number)}\")\n",
    "\n",
    "\n",
    "# 2. Veränderung des Variablentyps in float (automatisch)\n",
    "\n",
    "markus_number_a = markus_number+0.5\n",
    "print(f\"Der Datentyp von {markus_number_a} ist: {type(markus_number_a)}\")\n",
    "\n",
    "# 3. Veränderung des Variablentyps in String\n",
    "\n",
    "markus_number_b=\"Fünfundfünfzig komma Fünf\"\n",
    "print(f\"Der Datentyp von {markus_number_b} ist: {type(markus_number_b)}\")\n",
    "\n",
    "markus_number_c=str(markus_number_a)\n",
    "print(f\"Der Datentyp von {markus_number_c} ist: {type(markus_number_c)}\")"
   ]
  },
  {
   "cell_type": "code",
   "execution_count": 9,
   "metadata": {},
   "outputs": [
    {
     "name": "stdout",
     "output_type": "stream",
     "text": [
      "IDENTISCHE KOPIE\n",
      "x: 11 Speicherort: 140710603900008\n",
      "y: 11 Speicherort: 140710603900008\n",
      "VERÄNDERUNG EINER VARIABLE\n",
      "x: 11 Speicherort: 140710603900008\n",
      "y: 4 Speicherort: 140710603899784\n"
     ]
    }
   ],
   "source": [
    "############################\n",
    "# TESTEN DER id() Funktion:#\n",
    "############################\n",
    "\n",
    "# 1. Einer Variablen X wird ein Wert zugewiesen:\n",
    "x=11\n",
    "print(\"IDENTISCHE KOPIE\")\n",
    "print(\"x:\",x, \"Speicherort:\",id(x))\n",
    "# 2. Es wird eine Kopie der Variable X erstellt - mit der Bezeichnung \"y\"\n",
    "y=x\n",
    "print(\"y:\",y, \"Speicherort:\",id(y))\n",
    "# wird als Verweis gespeichert\n",
    "# 3. Beide Variablen haben zunächst denselben Speicherort, bis eine der beiden \n",
    "#    Variablen verändert wird:\n",
    "print(\"VERÄNDERUNG EINER VARIABLE\")\n",
    "y=4\n",
    "print(\"x:\",x, \"Speicherort:\",id(x))\n",
    "print(\"y:\",y, \"Speicherort:\",id(y))\n",
    "# 4. x und y sind in der Folge miteinander nicht mehr verbunden!"
   ]
  },
  {
   "cell_type": "code",
   "execution_count": 10,
   "metadata": {},
   "outputs": [
    {
     "name": "stdout",
     "output_type": "stream",
     "text": [
      "b'Markus'\n",
      "<class 'bytes'>\n",
      "Der Unicode - Character für 77 : M\n",
      "Der Unicode - Character für 97 : a\n",
      "Der Unicode - Character für 114 : r\n",
      "Der Unicode - Character für 107 : k\n",
      "Der Unicode - Character für 117 : u\n",
      "Der Unicode - Character für 115 : s\n"
     ]
    }
   ],
   "source": [
    "############################\n",
    "# AD 2) Datentypen -  Umwandlung:#\n",
    "############################\n",
    "#AUFGABE: SCHREIBE Y in ein FILE und danach einen STRING in ein FILE\n",
    "#DEN WIR MIT Operator Overloading erzeugen ....\n",
    "\n",
    "#x = bin(1500)\n",
    "#print(x)\n",
    "\n",
    "y= \"Markus\".encode()\n",
    "print(y)\n",
    "print(type(y))\n",
    "\n",
    "for i in y:\n",
    "    j=chr(i)\n",
    "    print(f\"Der Unicode - Character für {i} : {j}\")\n",
    "\n",
    "filename='bytetext'\n",
    "with open (filename,'a+b') as markus_file:\n",
    "    markus_file.write(y)"
   ]
  },
  {
   "cell_type": "code",
   "execution_count": 4,
   "metadata": {},
   "outputs": [
    {
     "name": "stdout",
     "output_type": "stream",
     "text": [
      "b'hallo'\n",
      "<class 'bytes'>\n",
      "hallo\n",
      "<class 'str'>\n"
     ]
    }
   ],
   "source": [
    "with open(filename,'r+b') as markus_file:\n",
    "    a=markus_file.read()\n",
    "    print(a)\n",
    "    print(type(a))\n",
    "    a=a.decode()\n",
    "    print(a)\n",
    "    print(type(a))"
   ]
  },
  {
   "cell_type": "markdown",
   "metadata": {},
   "source": [
    "2. String mittels operator overloading erstellen und in das file schreiben\n",
    "3. Das file soll auch wieder ausgelesen werden und als String dargestellt werden"
   ]
  },
  {
   "cell_type": "code",
   "execution_count": 19,
   "metadata": {},
   "outputs": [],
   "source": [
    "filename = \"kb_overload\"\n",
    "i = \"mum\".encode()\n",
    "\n",
    "# Desired file size in bytes\n",
    "filesize = 25 * 1024  # 25 KB\n",
    "\n",
    "# Calculate the number of times to repeat \"mum\"\n",
    "repeats = filesize // len(i)\n",
    "\n",
    "# Create the content by repeating \"mum\" the calculated number of times\n",
    "content = i * repeats\n",
    "\n",
    "# Open the file in write and binary mode\n",
    "with open(filename, 'wb') as markus_file:\n",
    "    # Write the repeated string to the file\n",
    "    markus_file.write(content)\n",
    "\n"
   ]
  },
  {
   "cell_type": "code",
   "execution_count": null,
   "metadata": {},
   "outputs": [],
   "source": []
  }
 ],
 "metadata": {
  "kernelspec": {
   "display_name": "Python 3 (ipykernel)",
   "language": "python",
   "name": "python3"
  },
  "language_info": {
   "codemirror_mode": {
    "name": "ipython",
    "version": 3
   },
   "file_extension": ".py",
   "mimetype": "text/x-python",
   "name": "python",
   "nbconvert_exporter": "python",
   "pygments_lexer": "ipython3",
   "version": "3.11.7"
  },
  "vscode": {
   "interpreter": {
    "hash": "7600a12950a547366bb7a6732117e300ffd26224351912980486e1126c5d0f9a"
   }
  }
 },
 "nbformat": 4,
 "nbformat_minor": 4
}
