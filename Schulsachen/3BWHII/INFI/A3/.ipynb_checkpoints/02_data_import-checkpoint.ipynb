{
 "cells": [
  {
   "cell_type": "markdown",
   "metadata": {},
   "source": [
    "A) Abfrage und Ausgabe aller Tabellen in der Datenbank aus dem vorhergehenden Beispiel: \n",
    "Die Tabellen sollen im Terminal in \"formatierter\" Form ausgegeben werden. Dabei soll ein Datenbank-Curser verwendet\n",
    "und eine entsprechende Abfrage mittels cursor.execute() ausgeführt werden.\n",
    "Die Tabellenüberschrift ist optisch - zumindest durch eine Trennzeile vom \n",
    "Tabelleninhalt zu trennen. Es sollen jeweils nur die ersten 5 Zeilen einer Tabelle ausgegeben werden.\n"
   ]
  },
  {
   "cell_type": "code",
   "execution_count": 2,
   "metadata": {
    "tags": []
   },
   "outputs": [
    {
     "ename": "OperationalError",
     "evalue": "unable to open database file",
     "output_type": "error",
     "traceback": [
      "\u001b[1;31m---------------------------------------------------------------------------\u001b[0m",
      "\u001b[1;31mOperationalError\u001b[0m                          Traceback (most recent call last)",
      "Cell \u001b[1;32mIn[2], line 4\u001b[0m\n\u001b[0;32m      2\u001b[0m \u001b[38;5;28;01mimport\u001b[39;00m \u001b[38;5;21;01msqlite3\u001b[39;00m\n\u001b[0;32m      3\u001b[0m sqlite_db\u001b[38;5;241m=\u001b[39m \u001b[38;5;124mr\u001b[39m\u001b[38;5;124m'\u001b[39m\u001b[38;5;124mSchulsachen\u001b[39m\u001b[38;5;124m\\\u001b[39m\u001b[38;5;124m3BWHII\u001b[39m\u001b[38;5;124m\\\u001b[39m\u001b[38;5;124mINFI\u001b[39m\u001b[38;5;124m\\\u001b[39m\u001b[38;5;124mA3\u001b[39m\u001b[38;5;124m\\\u001b[39m\u001b[38;5;124mT1_Kunden_Mitarbeiter.db\u001b[39m\u001b[38;5;124m'\u001b[39m\n\u001b[1;32m----> 4\u001b[0m conn\u001b[38;5;241m=\u001b[39m\u001b[43msqlite3\u001b[49m\u001b[38;5;241;43m.\u001b[39;49m\u001b[43mconnect\u001b[49m\u001b[43m(\u001b[49m\u001b[43msqlite_db\u001b[49m\u001b[43m)\u001b[49m \n\u001b[0;32m      6\u001b[0m \u001b[38;5;66;03m# Creates sqlite Database - check in your file explorer\u001b[39;00m\n\u001b[0;32m      7\u001b[0m cur\u001b[38;5;241m=\u001b[39mconn\u001b[38;5;241m.\u001b[39mcursor()\n",
      "\u001b[1;31mOperationalError\u001b[0m: unable to open database file"
     ]
    }
   ],
   "source": [
    "import pandas as pd\n",
    "import sqlite3\n",
    "sqlite_db= r'Schulsachen\\3BWHII\\INFI\\A3\\T1_Kunden_Mitarbeiter.db'\n",
    "conn=sqlite3.connect(sqlite_db) \n",
    "\n",
    "# Creates sqlite Database - check in your file explorer\n",
    "cur=conn.cursor()\n",
    "cur.execute(\"SELECT name FROM sqlite_master WHERE type='table';\")\n",
    "mytables=cur.fetchall()\n",
    "for row in mytables:\n",
    "    print('''*********************************************\\n\n",
    "--      <<<<<<{row}>>>>>>\\n\n",
    "-----------------------------------------------'''.format(row=row))\n",
    "    cur.execute(\"SELECT * FROM {retrieved_table};\".format(retrieved_table=row[0]))\n",
    "    table_data=cur.fetchmany(5)\n",
    "    for detailrow in table_data:\n",
    "        print(detailrow)\n",
    "    print('*********************************************' )\n",
    "    \n",
    "\n"
   ]
  },
  {
   "cell_type": "code",
   "execution_count": null,
   "metadata": {
    "tags": []
   },
   "outputs": [],
   "source": [
    "cur.execute(\"SELECT ID, Nachname FROM C_Kunden;\")\n",
    "result=cur.fetchall()\n",
    "for row in result:\n",
    "    print(row)\n"
   ]
  },
  {
   "cell_type": "markdown",
   "metadata": {},
   "source": [
    "B) Erstelle einen Data Frame aus dem die Anzahl der Kunden je Kundenbetreuer ersichtlich ist. Die Anzahl soll bereits mittels \n",
    "SQL Statement berechnet werden. Die Sortierung (absteigend) soll im Data Frame erfolgen. \n",
    "Im Terminal sollen die \"Top 5\" Kundenbetreuer nach \"Anzahl\" ausgegeben werden. "
   ]
  },
  {
   "cell_type": "code",
   "execution_count": null,
   "metadata": {
    "tags": []
   },
   "outputs": [],
   "source": [
    "my_df=pd.read_sql(\"SELECT m.ID, m.Vorname, m.Nachname, COUNT(k.ID) FROM C_Mitarbeiter m JOIN C_Kunden k ON k.[Kunden-Betreuer] = m.ID GROUP BY m.ID;\", conn)\n",
    "my_df_new=my_df.sort_values(by='COUNT(k.ID)', ascending=False)\n",
    "my_df_new.head()"
   ]
  },
  {
   "cell_type": "code",
   "execution_count": null,
   "metadata": {},
   "outputs": [],
   "source": [
    "my_df.sort_values(by='COUNT(k.ID)', ascending=False)\n",
    "my_df.head()\n"
   ]
  },
  {
   "cell_type": "code",
   "execution_count": null,
   "metadata": {
    "tags": []
   },
   "outputs": [],
   "source": [
    "my_df_new.to_html('df_sorted.html')"
   ]
  },
  {
   "cell_type": "code",
   "execution_count": null,
   "metadata": {},
   "outputs": [],
   "source": []
  }
 ],
 "metadata": {
  "kernelspec": {
   "display_name": "Python 3",
   "language": "python",
   "name": "python3"
  },
  "language_info": {
   "codemirror_mode": {
    "name": "ipython",
    "version": 3
   },
   "file_extension": ".py",
   "mimetype": "text/x-python",
   "name": "python",
   "nbconvert_exporter": "python",
   "pygments_lexer": "ipython3",
   "version": "3.10.11"
  }
 },
 "nbformat": 4,
 "nbformat_minor": 4
}
