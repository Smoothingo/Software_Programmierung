{
 "cells": [
  {
   "cell_type": "code",
   "execution_count": 7,
   "id": "8c640434",
   "metadata": {},
   "outputs": [
    {
     "name": "stdout",
     "output_type": "stream",
     "text": [
      "Requirement already satisfied: folium in c:\\users\\markus\\anaconda3\\envs\\pyside\\lib\\site-packages (0.18.0)\n",
      "Requirement already satisfied: branca>=0.6.0 in c:\\users\\markus\\anaconda3\\envs\\pyside\\lib\\site-packages (from folium) (0.8.0)\n",
      "Requirement already satisfied: jinja2>=2.9 in c:\\users\\markus\\anaconda3\\envs\\pyside\\lib\\site-packages (from folium) (3.1.4)\n",
      "Requirement already satisfied: numpy in c:\\users\\markus\\appdata\\roaming\\python\\python310\\site-packages (from folium) (1.23.3)\n",
      "Requirement already satisfied: requests in c:\\users\\markus\\appdata\\roaming\\python\\python310\\site-packages (from folium) (2.28.1)\n",
      "Requirement already satisfied: xyzservices in c:\\users\\markus\\anaconda3\\envs\\pyside\\lib\\site-packages (from folium) (2022.9.0)\n",
      "Requirement already satisfied: MarkupSafe>=2.0 in c:\\users\\markus\\anaconda3\\envs\\pyside\\lib\\site-packages (from jinja2>=2.9->folium) (2.1.3)\n",
      "Requirement already satisfied: charset-normalizer<3,>=2 in c:\\users\\markus\\appdata\\roaming\\python\\python310\\site-packages (from requests->folium) (2.1.1)\n",
      "Requirement already satisfied: idna<4,>=2.5 in c:\\users\\markus\\appdata\\roaming\\python\\python310\\site-packages (from requests->folium) (3.4)\n",
      "Requirement already satisfied: urllib3<1.27,>=1.21.1 in c:\\users\\markus\\appdata\\roaming\\python\\python310\\site-packages (from requests->folium) (1.26.12)\n",
      "Requirement already satisfied: certifi>=2017.4.17 in c:\\users\\markus\\appdata\\roaming\\python\\python310\\site-packages (from requests->folium) (2022.9.24)\n"
     ]
    }
   ],
   "source": [
    "!pip install folium"
   ]
  },
  {
   "cell_type": "code",
   "execution_count": 8,
   "id": "ddb98d41-4f1f-4933-a4ac-85b841cb911a",
   "metadata": {},
   "outputs": [],
   "source": [
    "import folium"
   ]
  },
  {
   "cell_type": "code",
   "execution_count": 9,
   "id": "2b0be5e5-ec88-481f-a783-a3d108e80487",
   "metadata": {},
   "outputs": [],
   "source": [
    "# Definiere die Koordinaten für die Karte\n",
    "location = [48.321717, 16.207151]"
   ]
  },
  {
   "cell_type": "code",
   "execution_count": 10,
   "id": "6230c29e",
   "metadata": {},
   "outputs": [],
   "source": [
    "# Erstelle die Karte mit der angegebenen Position\n",
    "m = folium.Map(\n",
    "    location=location,\n",
    "    zoom_start=2,  # Standard-Zoomstufe\n",
    "    max_bounds=True\n",
    ")"
   ]
  },
  {
   "cell_type": "code",
   "execution_count": 11,
   "id": "0b664b90",
   "metadata": {},
   "outputs": [
    {
     "data": {
      "text/plain": [
       "<folium.map.Marker at 0x26e46bc9810>"
      ]
     },
     "execution_count": 11,
     "metadata": {},
     "output_type": "execute_result"
    }
   ],
   "source": [
    "# Füge einen Marker an der angegebenen Position hinzu\n",
    "folium.Marker(location, tooltip=\"Location\").add_to(m)"
   ]
  },
  {
   "cell_type": "code",
   "execution_count": 12,
   "id": "35dd189d",
   "metadata": {},
   "outputs": [],
   "source": [
    "# Speichere die Karte in einer HTML-Datei\n",
    "m.save('map.html')"
   ]
  }
 ],
 "metadata": {
  "kernelspec": {
   "display_name": "Pyside",
   "language": "python",
   "name": "python3"
  },
  "language_info": {
   "codemirror_mode": {
    "name": "ipython",
    "version": 3
   },
   "file_extension": ".py",
   "mimetype": "text/x-python",
   "name": "python",
   "nbconvert_exporter": "python",
   "pygments_lexer": "ipython3",
   "version": "3.10.15"
  }
 },
 "nbformat": 4,
 "nbformat_minor": 5
}
